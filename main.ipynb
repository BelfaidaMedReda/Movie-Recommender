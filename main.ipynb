{
 "cells": [
  {
   "cell_type": "markdown",
   "id": "4429ce3e-c728-47de-b9c3-059ce3ecaf1f",
   "metadata": {},
   "source": [
    "### Movie Recommander System project"
   ]
  },
  {
   "cell_type": "code",
   "execution_count": 28,
   "id": "051f51f0-fa98-42f5-84e2-02c49494a2f3",
   "metadata": {},
   "outputs": [],
   "source": [
    "import pandas as pd \n",
    "import numpy as np"
   ]
  },
  {
   "cell_type": "code",
   "execution_count": 29,
   "id": "a7ff9612-699e-495e-9fde-987b780471ba",
   "metadata": {},
   "outputs": [],
   "source": [
    "movies = pd.read_csv(\"dataset/movies.csv\")\n",
    "credits = pd.read_csv(\"dataset/credits.csv\")"
   ]
  },
  {
   "cell_type": "code",
   "execution_count": 30,
   "id": "7423597d-02da-4007-825a-1c1660441525",
   "metadata": {},
   "outputs": [
    {
     "data": {
      "text/html": [
       "<div>\n",
       "<style scoped>\n",
       "    .dataframe tbody tr th:only-of-type {\n",
       "        vertical-align: middle;\n",
       "    }\n",
       "\n",
       "    .dataframe tbody tr th {\n",
       "        vertical-align: top;\n",
       "    }\n",
       "\n",
       "    .dataframe thead th {\n",
       "        text-align: right;\n",
       "    }\n",
       "</style>\n",
       "<table border=\"1\" class=\"dataframe\">\n",
       "  <thead>\n",
       "    <tr style=\"text-align: right;\">\n",
       "      <th></th>\n",
       "      <th>budget</th>\n",
       "      <th>genres</th>\n",
       "      <th>homepage</th>\n",
       "      <th>id</th>\n",
       "      <th>keywords</th>\n",
       "      <th>original_language</th>\n",
       "      <th>original_title</th>\n",
       "      <th>overview</th>\n",
       "      <th>popularity</th>\n",
       "      <th>production_companies</th>\n",
       "      <th>production_countries</th>\n",
       "      <th>release_date</th>\n",
       "      <th>revenue</th>\n",
       "      <th>runtime</th>\n",
       "      <th>spoken_languages</th>\n",
       "      <th>status</th>\n",
       "      <th>tagline</th>\n",
       "      <th>title</th>\n",
       "      <th>vote_average</th>\n",
       "      <th>vote_count</th>\n",
       "    </tr>\n",
       "  </thead>\n",
       "  <tbody>\n",
       "    <tr>\n",
       "      <th>0</th>\n",
       "      <td>237000000</td>\n",
       "      <td>[{\"id\": 28, \"name\": \"Action\"}, {\"id\": 12, \"nam...</td>\n",
       "      <td>http://www.avatarmovie.com/</td>\n",
       "      <td>19995</td>\n",
       "      <td>[{\"id\": 1463, \"name\": \"culture clash\"}, {\"id\":...</td>\n",
       "      <td>en</td>\n",
       "      <td>Avatar</td>\n",
       "      <td>In the 22nd century, a paraplegic Marine is di...</td>\n",
       "      <td>150.437577</td>\n",
       "      <td>[{\"name\": \"Ingenious Film Partners\", \"id\": 289...</td>\n",
       "      <td>[{\"iso_3166_1\": \"US\", \"name\": \"United States o...</td>\n",
       "      <td>2009-12-10</td>\n",
       "      <td>2787965087</td>\n",
       "      <td>162.0</td>\n",
       "      <td>[{\"iso_639_1\": \"en\", \"name\": \"English\"}, {\"iso...</td>\n",
       "      <td>Released</td>\n",
       "      <td>Enter the World of Pandora.</td>\n",
       "      <td>Avatar</td>\n",
       "      <td>7.2</td>\n",
       "      <td>11800</td>\n",
       "    </tr>\n",
       "    <tr>\n",
       "      <th>1</th>\n",
       "      <td>300000000</td>\n",
       "      <td>[{\"id\": 12, \"name\": \"Adventure\"}, {\"id\": 14, \"...</td>\n",
       "      <td>http://disney.go.com/disneypictures/pirates/</td>\n",
       "      <td>285</td>\n",
       "      <td>[{\"id\": 270, \"name\": \"ocean\"}, {\"id\": 726, \"na...</td>\n",
       "      <td>en</td>\n",
       "      <td>Pirates of the Caribbean: At World's End</td>\n",
       "      <td>Captain Barbossa, long believed to be dead, ha...</td>\n",
       "      <td>139.082615</td>\n",
       "      <td>[{\"name\": \"Walt Disney Pictures\", \"id\": 2}, {\"...</td>\n",
       "      <td>[{\"iso_3166_1\": \"US\", \"name\": \"United States o...</td>\n",
       "      <td>2007-05-19</td>\n",
       "      <td>961000000</td>\n",
       "      <td>169.0</td>\n",
       "      <td>[{\"iso_639_1\": \"en\", \"name\": \"English\"}]</td>\n",
       "      <td>Released</td>\n",
       "      <td>At the end of the world, the adventure begins.</td>\n",
       "      <td>Pirates of the Caribbean: At World's End</td>\n",
       "      <td>6.9</td>\n",
       "      <td>4500</td>\n",
       "    </tr>\n",
       "  </tbody>\n",
       "</table>\n",
       "</div>"
      ],
      "text/plain": [
       "      budget                                             genres  \\\n",
       "0  237000000  [{\"id\": 28, \"name\": \"Action\"}, {\"id\": 12, \"nam...   \n",
       "1  300000000  [{\"id\": 12, \"name\": \"Adventure\"}, {\"id\": 14, \"...   \n",
       "\n",
       "                                       homepage     id  \\\n",
       "0                   http://www.avatarmovie.com/  19995   \n",
       "1  http://disney.go.com/disneypictures/pirates/    285   \n",
       "\n",
       "                                            keywords original_language  \\\n",
       "0  [{\"id\": 1463, \"name\": \"culture clash\"}, {\"id\":...                en   \n",
       "1  [{\"id\": 270, \"name\": \"ocean\"}, {\"id\": 726, \"na...                en   \n",
       "\n",
       "                             original_title  \\\n",
       "0                                    Avatar   \n",
       "1  Pirates of the Caribbean: At World's End   \n",
       "\n",
       "                                            overview  popularity  \\\n",
       "0  In the 22nd century, a paraplegic Marine is di...  150.437577   \n",
       "1  Captain Barbossa, long believed to be dead, ha...  139.082615   \n",
       "\n",
       "                                production_companies  \\\n",
       "0  [{\"name\": \"Ingenious Film Partners\", \"id\": 289...   \n",
       "1  [{\"name\": \"Walt Disney Pictures\", \"id\": 2}, {\"...   \n",
       "\n",
       "                                production_countries release_date     revenue  \\\n",
       "0  [{\"iso_3166_1\": \"US\", \"name\": \"United States o...   2009-12-10  2787965087   \n",
       "1  [{\"iso_3166_1\": \"US\", \"name\": \"United States o...   2007-05-19   961000000   \n",
       "\n",
       "   runtime                                   spoken_languages    status  \\\n",
       "0    162.0  [{\"iso_639_1\": \"en\", \"name\": \"English\"}, {\"iso...  Released   \n",
       "1    169.0           [{\"iso_639_1\": \"en\", \"name\": \"English\"}]  Released   \n",
       "\n",
       "                                          tagline  \\\n",
       "0                     Enter the World of Pandora.   \n",
       "1  At the end of the world, the adventure begins.   \n",
       "\n",
       "                                      title  vote_average  vote_count  \n",
       "0                                    Avatar           7.2       11800  \n",
       "1  Pirates of the Caribbean: At World's End           6.9        4500  "
      ]
     },
     "execution_count": 30,
     "metadata": {},
     "output_type": "execute_result"
    }
   ],
   "source": [
    "movies.head(2)"
   ]
  },
  {
   "cell_type": "code",
   "execution_count": 31,
   "id": "e2a73699-852d-4603-9759-2b0659227d7a",
   "metadata": {},
   "outputs": [
    {
     "data": {
      "text/html": [
       "<div>\n",
       "<style scoped>\n",
       "    .dataframe tbody tr th:only-of-type {\n",
       "        vertical-align: middle;\n",
       "    }\n",
       "\n",
       "    .dataframe tbody tr th {\n",
       "        vertical-align: top;\n",
       "    }\n",
       "\n",
       "    .dataframe thead th {\n",
       "        text-align: right;\n",
       "    }\n",
       "</style>\n",
       "<table border=\"1\" class=\"dataframe\">\n",
       "  <thead>\n",
       "    <tr style=\"text-align: right;\">\n",
       "      <th></th>\n",
       "      <th>movie_id</th>\n",
       "      <th>title</th>\n",
       "      <th>cast</th>\n",
       "      <th>crew</th>\n",
       "    </tr>\n",
       "  </thead>\n",
       "  <tbody>\n",
       "    <tr>\n",
       "      <th>0</th>\n",
       "      <td>19995</td>\n",
       "      <td>Avatar</td>\n",
       "      <td>[{\"cast_id\": 242, \"character\": \"Jake Sully\", \"...</td>\n",
       "      <td>[{\"credit_id\": \"52fe48009251416c750aca23\", \"de...</td>\n",
       "    </tr>\n",
       "    <tr>\n",
       "      <th>1</th>\n",
       "      <td>285</td>\n",
       "      <td>Pirates of the Caribbean: At World's End</td>\n",
       "      <td>[{\"cast_id\": 4, \"character\": \"Captain Jack Spa...</td>\n",
       "      <td>[{\"credit_id\": \"52fe4232c3a36847f800b579\", \"de...</td>\n",
       "    </tr>\n",
       "  </tbody>\n",
       "</table>\n",
       "</div>"
      ],
      "text/plain": [
       "   movie_id                                     title  \\\n",
       "0     19995                                    Avatar   \n",
       "1       285  Pirates of the Caribbean: At World's End   \n",
       "\n",
       "                                                cast  \\\n",
       "0  [{\"cast_id\": 242, \"character\": \"Jake Sully\", \"...   \n",
       "1  [{\"cast_id\": 4, \"character\": \"Captain Jack Spa...   \n",
       "\n",
       "                                                crew  \n",
       "0  [{\"credit_id\": \"52fe48009251416c750aca23\", \"de...  \n",
       "1  [{\"credit_id\": \"52fe4232c3a36847f800b579\", \"de...  "
      ]
     },
     "execution_count": 31,
     "metadata": {},
     "output_type": "execute_result"
    }
   ],
   "source": [
    "credits.head(2)"
   ]
  },
  {
   "cell_type": "code",
   "execution_count": 32,
   "id": "16e4131a-80e1-4195-8830-5058e38cea46",
   "metadata": {},
   "outputs": [],
   "source": [
    "# Merging between movies dataset and credits one\n",
    "movies = movies.merge(credits,left_on=\"id\",right_on=\"movie_id\")"
   ]
  },
  {
   "cell_type": "code",
   "execution_count": 33,
   "id": "46ac2035-e732-403a-8f76-1b49bce7edaa",
   "metadata": {},
   "outputs": [],
   "source": [
    "# Select the key features for the project\n",
    "movies = movies[[\"id\",\"genres\",\"keywords\",\"title_x\",\"overview\",\"cast\",\"crew\"]].rename(columns={\"title_x\":\"title\"})"
   ]
  },
  {
   "cell_type": "code",
   "execution_count": 34,
   "id": "b06c89d3-8563-45c1-b071-4639388c60d8",
   "metadata": {},
   "outputs": [],
   "source": [
    "# Kicking out records with null value\n",
    "movies.isnull().any()\n",
    "movies = movies.dropna()"
   ]
  },
  {
   "cell_type": "code",
   "execution_count": 35,
   "id": "e10b6add-9a0b-4154-8d60-c5035dbff5c1",
   "metadata": {},
   "outputs": [],
   "source": [
    "movies = movies.drop_duplicates()"
   ]
  },
  {
   "cell_type": "code",
   "execution_count": 36,
   "id": "f808cfbc-27c4-40ec-871f-2cc6d41479bd",
   "metadata": {},
   "outputs": [],
   "source": [
    "# Converting Json strings in genres and keywords attributes to ordinary list\n",
    "\n",
    "import json\n",
    "\n",
    "def convert(json_ch):\n",
    "    res = []\n",
    "    tab = json.loads(json_ch)\n",
    "    for elem in tab:\n",
    "        res.append(elem[\"name\"])\n",
    "    return res\n",
    "\n",
    "movies[\"genres\"] = movies[\"genres\"].apply(convert)\n",
    "movies[\"keywords\"] = movies[\"keywords\"].apply(convert)"
   ]
  },
  {
   "cell_type": "code",
   "execution_count": 37,
   "id": "091354d9-1795-42f1-8a9f-3a63f3a77c26",
   "metadata": {},
   "outputs": [],
   "source": [
    "# Targeting cast attribute\n",
    "\n",
    "def choose3(json_ch):\n",
    "    res = []\n",
    "    L = json.loads(json_ch)\n",
    "    count = 0 \n",
    "    for x in L:\n",
    "        if count < 3 :\n",
    "            res.append(x[\"name\"])\n",
    "            count+=1\n",
    "        else:\n",
    "            break\n",
    "    return res\n",
    "\n",
    "movies[\"cast\"] = movies[\"cast\"].apply(choose3)"
   ]
  },
  {
   "cell_type": "code",
   "execution_count": 38,
   "id": "362fbb1d-2d59-452a-9796-67d8cf2a0a82",
   "metadata": {},
   "outputs": [],
   "source": [
    "# Targeting crew attribute\n",
    "\n",
    "def choose_director(json_ch):\n",
    "    res = []\n",
    "    L  = json.loads(json_ch)\n",
    "    for x in L : \n",
    "        if x[\"job\"] == \"Director\":\n",
    "            res.append(x[\"name\"])\n",
    "    return res\n",
    "\n",
    "movies[\"crew\"] = movies[\"crew\"].apply(choose_director)"
   ]
  },
  {
   "cell_type": "code",
   "execution_count": 39,
   "id": "5bc692e6-7518-404a-8dd2-f8704a83a790",
   "metadata": {},
   "outputs": [],
   "source": [
    "#Targeting overview attribute\n",
    "\n",
    "def aslist(ch):\n",
    "    return ch.split(\" \")\n",
    "\n",
    "movies[\"overview\"] = movies[\"overview\"].apply(aslist)"
   ]
  },
  {
   "cell_type": "code",
   "execution_count": 40,
   "id": "704319c8-9b93-405a-8d50-02dd9e3159c0",
   "metadata": {},
   "outputs": [
    {
     "data": {
      "text/html": [
       "<div>\n",
       "<style scoped>\n",
       "    .dataframe tbody tr th:only-of-type {\n",
       "        vertical-align: middle;\n",
       "    }\n",
       "\n",
       "    .dataframe tbody tr th {\n",
       "        vertical-align: top;\n",
       "    }\n",
       "\n",
       "    .dataframe thead th {\n",
       "        text-align: right;\n",
       "    }\n",
       "</style>\n",
       "<table border=\"1\" class=\"dataframe\">\n",
       "  <thead>\n",
       "    <tr style=\"text-align: right;\">\n",
       "      <th></th>\n",
       "      <th>id</th>\n",
       "      <th>genres</th>\n",
       "      <th>keywords</th>\n",
       "      <th>title</th>\n",
       "      <th>overview</th>\n",
       "      <th>cast</th>\n",
       "      <th>crew</th>\n",
       "    </tr>\n",
       "  </thead>\n",
       "  <tbody>\n",
       "    <tr>\n",
       "      <th>0</th>\n",
       "      <td>19995</td>\n",
       "      <td>[Action, Adventure, Fantasy, Science Fiction]</td>\n",
       "      <td>[culture clash, future, space war, space colon...</td>\n",
       "      <td>Avatar</td>\n",
       "      <td>[In, the, 22nd, century,, a, paraplegic, Marin...</td>\n",
       "      <td>[Sam Worthington, Zoe Saldana, Sigourney Weaver]</td>\n",
       "      <td>[James Cameron]</td>\n",
       "    </tr>\n",
       "    <tr>\n",
       "      <th>1</th>\n",
       "      <td>285</td>\n",
       "      <td>[Adventure, Fantasy, Action]</td>\n",
       "      <td>[ocean, drug abuse, exotic island, east india ...</td>\n",
       "      <td>Pirates of the Caribbean: At World's End</td>\n",
       "      <td>[Captain, Barbossa,, long, believed, to, be, d...</td>\n",
       "      <td>[Johnny Depp, Orlando Bloom, Keira Knightley]</td>\n",
       "      <td>[Gore Verbinski]</td>\n",
       "    </tr>\n",
       "    <tr>\n",
       "      <th>2</th>\n",
       "      <td>206647</td>\n",
       "      <td>[Action, Adventure, Crime]</td>\n",
       "      <td>[spy, based on novel, secret agent, sequel, mi...</td>\n",
       "      <td>Spectre</td>\n",
       "      <td>[A, cryptic, message, from, Bond’s, past, send...</td>\n",
       "      <td>[Daniel Craig, Christoph Waltz, Léa Seydoux]</td>\n",
       "      <td>[Sam Mendes]</td>\n",
       "    </tr>\n",
       "    <tr>\n",
       "      <th>3</th>\n",
       "      <td>49026</td>\n",
       "      <td>[Action, Crime, Drama, Thriller]</td>\n",
       "      <td>[dc comics, crime fighter, terrorist, secret i...</td>\n",
       "      <td>The Dark Knight Rises</td>\n",
       "      <td>[Following, the, death, of, District, Attorney...</td>\n",
       "      <td>[Christian Bale, Michael Caine, Gary Oldman]</td>\n",
       "      <td>[Christopher Nolan]</td>\n",
       "    </tr>\n",
       "    <tr>\n",
       "      <th>4</th>\n",
       "      <td>49529</td>\n",
       "      <td>[Action, Adventure, Science Fiction]</td>\n",
       "      <td>[based on novel, mars, medallion, space travel...</td>\n",
       "      <td>John Carter</td>\n",
       "      <td>[John, Carter, is, a, war-weary,, former, mili...</td>\n",
       "      <td>[Taylor Kitsch, Lynn Collins, Samantha Morton]</td>\n",
       "      <td>[Andrew Stanton]</td>\n",
       "    </tr>\n",
       "  </tbody>\n",
       "</table>\n",
       "</div>"
      ],
      "text/plain": [
       "       id                                         genres  \\\n",
       "0   19995  [Action, Adventure, Fantasy, Science Fiction]   \n",
       "1     285                   [Adventure, Fantasy, Action]   \n",
       "2  206647                     [Action, Adventure, Crime]   \n",
       "3   49026               [Action, Crime, Drama, Thriller]   \n",
       "4   49529           [Action, Adventure, Science Fiction]   \n",
       "\n",
       "                                            keywords  \\\n",
       "0  [culture clash, future, space war, space colon...   \n",
       "1  [ocean, drug abuse, exotic island, east india ...   \n",
       "2  [spy, based on novel, secret agent, sequel, mi...   \n",
       "3  [dc comics, crime fighter, terrorist, secret i...   \n",
       "4  [based on novel, mars, medallion, space travel...   \n",
       "\n",
       "                                      title  \\\n",
       "0                                    Avatar   \n",
       "1  Pirates of the Caribbean: At World's End   \n",
       "2                                   Spectre   \n",
       "3                     The Dark Knight Rises   \n",
       "4                               John Carter   \n",
       "\n",
       "                                            overview  \\\n",
       "0  [In, the, 22nd, century,, a, paraplegic, Marin...   \n",
       "1  [Captain, Barbossa,, long, believed, to, be, d...   \n",
       "2  [A, cryptic, message, from, Bond’s, past, send...   \n",
       "3  [Following, the, death, of, District, Attorney...   \n",
       "4  [John, Carter, is, a, war-weary,, former, mili...   \n",
       "\n",
       "                                               cast                 crew  \n",
       "0  [Sam Worthington, Zoe Saldana, Sigourney Weaver]      [James Cameron]  \n",
       "1     [Johnny Depp, Orlando Bloom, Keira Knightley]     [Gore Verbinski]  \n",
       "2      [Daniel Craig, Christoph Waltz, Léa Seydoux]         [Sam Mendes]  \n",
       "3      [Christian Bale, Michael Caine, Gary Oldman]  [Christopher Nolan]  \n",
       "4    [Taylor Kitsch, Lynn Collins, Samantha Morton]     [Andrew Stanton]  "
      ]
     },
     "execution_count": 40,
     "metadata": {},
     "output_type": "execute_result"
    }
   ],
   "source": [
    "movies.head(5)"
   ]
  },
  {
   "cell_type": "code",
   "execution_count": 41,
   "id": "91851ee7-93ca-4412-b199-4b031daa131d",
   "metadata": {},
   "outputs": [],
   "source": [
    "# Eliminating spaces in genres, keywords, cast and crew\n",
    "\n",
    "def nospace(L):\n",
    "    return [elem.replace(\" \",\"\") for elem in L]\n",
    "\n",
    "for elem in (\"genres\" , \"keywords\" , \"cast\" , \"crew\"):\n",
    "    movies[elem] = movies[elem].apply(nospace)"
   ]
  },
  {
   "cell_type": "code",
   "execution_count": 42,
   "id": "0dccdb78-8889-46d5-bd56-fbe67ae4a9ac",
   "metadata": {},
   "outputs": [
    {
     "name": "stderr",
     "output_type": "stream",
     "text": [
      "/tmp/ipykernel_58030/711966385.py:6: SettingWithCopyWarning: \n",
      "A value is trying to be set on a copy of a slice from a DataFrame.\n",
      "Try using .loc[row_indexer,col_indexer] = value instead\n",
      "\n",
      "See the caveats in the documentation: https://pandas.pydata.org/pandas-docs/stable/user_guide/indexing.html#returning-a-view-versus-a-copy\n",
      "  new_df[\"tag\"] = new_df[\"tag\"].apply(lambda x:\" \".join(x))\n"
     ]
    }
   ],
   "source": [
    "# Creating tag attribute & adding new dataframe\n",
    "movies[\"tag\"] = movies[\"overview\"] + movies[\"genres\"] + movies[\"keywords\"] + movies[\"cast\"] + movies[\"crew\"]\n",
    "new_df = movies[[\"id\" , \"title\" , \"tag\"]]\n",
    "new_df.head(5)\n",
    "\n",
    "new_df[\"tag\"] = new_df[\"tag\"].apply(lambda x:\" \".join(x))"
   ]
  },
  {
   "cell_type": "code",
   "execution_count": 43,
   "id": "8ea2b80c-e407-4d01-ae7f-363fe4f17a12",
   "metadata": {},
   "outputs": [
    {
     "name": "stderr",
     "output_type": "stream",
     "text": [
      "/tmp/ipykernel_58030/2451791945.py:1: SettingWithCopyWarning: \n",
      "A value is trying to be set on a copy of a slice from a DataFrame.\n",
      "Try using .loc[row_indexer,col_indexer] = value instead\n",
      "\n",
      "See the caveats in the documentation: https://pandas.pydata.org/pandas-docs/stable/user_guide/indexing.html#returning-a-view-versus-a-copy\n",
      "  new_df[\"tag\"] = new_df[\"tag\"].apply(lambda x: x.lower())\n"
     ]
    }
   ],
   "source": [
    "new_df[\"tag\"] = new_df[\"tag\"].apply(lambda x: x.lower())"
   ]
  },
  {
   "cell_type": "code",
   "execution_count": 44,
   "id": "e01aaedd-3db8-4aad-b088-2ce824e01e9a",
   "metadata": {},
   "outputs": [
    {
     "data": {
      "text/html": [
       "<div>\n",
       "<style scoped>\n",
       "    .dataframe tbody tr th:only-of-type {\n",
       "        vertical-align: middle;\n",
       "    }\n",
       "\n",
       "    .dataframe tbody tr th {\n",
       "        vertical-align: top;\n",
       "    }\n",
       "\n",
       "    .dataframe thead th {\n",
       "        text-align: right;\n",
       "    }\n",
       "</style>\n",
       "<table border=\"1\" class=\"dataframe\">\n",
       "  <thead>\n",
       "    <tr style=\"text-align: right;\">\n",
       "      <th></th>\n",
       "      <th>id</th>\n",
       "      <th>title</th>\n",
       "      <th>tag</th>\n",
       "    </tr>\n",
       "  </thead>\n",
       "  <tbody>\n",
       "    <tr>\n",
       "      <th>0</th>\n",
       "      <td>19995</td>\n",
       "      <td>Avatar</td>\n",
       "      <td>in the 22nd century, a paraplegic marine is di...</td>\n",
       "    </tr>\n",
       "    <tr>\n",
       "      <th>1</th>\n",
       "      <td>285</td>\n",
       "      <td>Pirates of the Caribbean: At World's End</td>\n",
       "      <td>captain barbossa, long believed to be dead, ha...</td>\n",
       "    </tr>\n",
       "    <tr>\n",
       "      <th>2</th>\n",
       "      <td>206647</td>\n",
       "      <td>Spectre</td>\n",
       "      <td>a cryptic message from bond’s past sends him o...</td>\n",
       "    </tr>\n",
       "    <tr>\n",
       "      <th>3</th>\n",
       "      <td>49026</td>\n",
       "      <td>The Dark Knight Rises</td>\n",
       "      <td>following the death of district attorney harve...</td>\n",
       "    </tr>\n",
       "    <tr>\n",
       "      <th>4</th>\n",
       "      <td>49529</td>\n",
       "      <td>John Carter</td>\n",
       "      <td>john carter is a war-weary, former military ca...</td>\n",
       "    </tr>\n",
       "  </tbody>\n",
       "</table>\n",
       "</div>"
      ],
      "text/plain": [
       "       id                                     title  \\\n",
       "0   19995                                    Avatar   \n",
       "1     285  Pirates of the Caribbean: At World's End   \n",
       "2  206647                                   Spectre   \n",
       "3   49026                     The Dark Knight Rises   \n",
       "4   49529                               John Carter   \n",
       "\n",
       "                                                 tag  \n",
       "0  in the 22nd century, a paraplegic marine is di...  \n",
       "1  captain barbossa, long believed to be dead, ha...  \n",
       "2  a cryptic message from bond’s past sends him o...  \n",
       "3  following the death of district attorney harve...  \n",
       "4  john carter is a war-weary, former military ca...  "
      ]
     },
     "execution_count": 44,
     "metadata": {},
     "output_type": "execute_result"
    }
   ],
   "source": [
    "new_df.head()"
   ]
  },
  {
   "cell_type": "code",
   "execution_count": 45,
   "id": "cb67e902-34de-4d92-b6a0-f5aba968ee0e",
   "metadata": {},
   "outputs": [
    {
     "data": {
      "text/plain": [
       "'in the 22nd century, a paraplegic marine is dispatched to the moon pandora on a unique mission, but becomes torn between following orders and protecting an alien civilization. action adventure fantasy sciencefiction cultureclash future spacewar spacecolony society spacetravel futuristic romance space alien tribe alienplanet cgi marine soldier battle loveaffair antiwar powerrelations mindandsoul 3d samworthington zoesaldana sigourneyweaver jamescameron'"
      ]
     },
     "execution_count": 45,
     "metadata": {},
     "output_type": "execute_result"
    }
   ],
   "source": [
    "new_df.iloc[0][\"tag\"]"
   ]
  },
  {
   "cell_type": "code",
   "execution_count": 46,
   "id": "17bb2a23-6274-4384-aad6-e84e412acf26",
   "metadata": {},
   "outputs": [
    {
     "name": "stderr",
     "output_type": "stream",
     "text": [
      "/tmp/ipykernel_58030/2859599281.py:17: SettingWithCopyWarning: \n",
      "A value is trying to be set on a copy of a slice from a DataFrame.\n",
      "Try using .loc[row_indexer,col_indexer] = value instead\n",
      "\n",
      "See the caveats in the documentation: https://pandas.pydata.org/pandas-docs/stable/user_guide/indexing.html#returning-a-view-versus-a-copy\n",
      "  new_df[\"tag\"] = new_df[\"tag\"].apply(remove_stopwords)\n"
     ]
    }
   ],
   "source": [
    "import sys\n",
    "import spacy\n",
    "\n",
    "# Load the language model\n",
    "nlp = spacy.load(\"en_core_web_sm\")\n",
    "\n",
    "def remove_stopwords(text):\n",
    "    # Process the text\n",
    "    doc = nlp(text)\n",
    "    # Filter out stop words\n",
    "    filtered_tokens = [token.text for token in doc if not token.is_stop]\n",
    "    # Join the filtered tokens back into a string\n",
    "    filtered_text = \" \".join(filtered_tokens)\n",
    "    return filtered_text\n",
    "\n",
    "# Removing stopwords from tags \n",
    "new_df[\"tag\"] = new_df[\"tag\"].apply(remove_stopwords)"
   ]
  },
  {
   "cell_type": "code",
   "execution_count": 47,
   "id": "c7bf8a48-fbba-4529-98fe-bb7782fe1e1e",
   "metadata": {},
   "outputs": [
    {
     "data": {
      "text/plain": [
       "'22nd century , paraplegic marine dispatched moon pandora unique mission , torn following orders protecting alien civilization . action adventure fantasy sciencefiction cultureclash future spacewar spacecolony society spacetravel futuristic romance space alien tribe alienplanet cgi marine soldier battle loveaffair antiwar powerrelations mindandsoul 3d samworthington zoesaldana sigourneyweaver jamescameron'"
      ]
     },
     "execution_count": 47,
     "metadata": {},
     "output_type": "execute_result"
    }
   ],
   "source": [
    "new_df.iloc[0][\"tag\"]"
   ]
  },
  {
   "cell_type": "code",
   "execution_count": 48,
   "id": "d8dd07c7-053f-4bec-86d1-776dc07f3e86",
   "metadata": {},
   "outputs": [
    {
     "name": "stderr",
     "output_type": "stream",
     "text": [
      "/tmp/ipykernel_58030/3799582500.py:9: SettingWithCopyWarning: \n",
      "A value is trying to be set on a copy of a slice from a DataFrame.\n",
      "Try using .loc[row_indexer,col_indexer] = value instead\n",
      "\n",
      "See the caveats in the documentation: https://pandas.pydata.org/pandas-docs/stable/user_guide/indexing.html#returning-a-view-versus-a-copy\n",
      "  new_df[\"tag\"] = new_df[\"tag\"].apply(remove_punctuation_and_extra_spaces)\n"
     ]
    }
   ],
   "source": [
    "import string\n",
    "\n",
    "def remove_punctuation_and_extra_spaces(text):\n",
    "    # Remove punctuation\n",
    "    text_without_punctuation = text.translate(str.maketrans('', '', string.punctuation))\n",
    "    # Remove extra spaces and return the cleaned text\n",
    "    return ' '.join(text_without_punctuation.split())\n",
    "\n",
    "new_df[\"tag\"] = new_df[\"tag\"].apply(remove_punctuation_and_extra_spaces)"
   ]
  },
  {
   "cell_type": "code",
   "execution_count": 52,
   "id": "a45913dd-466a-481e-a0a1-ce5a1dd3abd7",
   "metadata": {},
   "outputs": [
    {
     "name": "stderr",
     "output_type": "stream",
     "text": [
      "/tmp/ipykernel_58030/2963457006.py:8: SettingWithCopyWarning: \n",
      "A value is trying to be set on a copy of a slice from a DataFrame.\n",
      "Try using .loc[row_indexer,col_indexer] = value instead\n",
      "\n",
      "See the caveats in the documentation: https://pandas.pydata.org/pandas-docs/stable/user_guide/indexing.html#returning-a-view-versus-a-copy\n",
      "  new_df[\"tag\"] = new_df[\"tag\"].apply(tokenize)\n"
     ]
    }
   ],
   "source": [
    "# Tokenization\n",
    "\n",
    "def tokenize(text):\n",
    "    doc = nlp(text)    \n",
    "    tokens = [token.text for token in doc]\n",
    "    return tokens\n",
    "\n",
    "new_df[\"tag\"] = new_df[\"tag\"].apply(tokenize)"
   ]
  },
  {
   "cell_type": "code",
   "execution_count": 54,
   "id": "10e97f4d-0a63-49e6-a851-923a02d9f747",
   "metadata": {},
   "outputs": [
    {
     "data": {
      "text/plain": [
       "0    [22nd, century, paraplegic, marine, dispatched...\n",
       "1    [captain, barbossa, long, believed, dead, come...\n",
       "2    [cryptic, message, bond, past, sends, trail, u...\n",
       "3    [following, death, district, attorney, harvey,...\n",
       "4    [john, carter, war, weary, military, captain, ...\n",
       "Name: tag, dtype: object"
      ]
     },
     "execution_count": 54,
     "metadata": {},
     "output_type": "execute_result"
    }
   ],
   "source": [
    "new_df[\"tag\"].head(5)"
   ]
  },
  {
   "cell_type": "code",
   "execution_count": 55,
   "id": "df81a89a-0eb3-46e7-819d-e692ae4fefa3",
   "metadata": {},
   "outputs": [
    {
     "name": "stderr",
     "output_type": "stream",
     "text": [
      "/tmp/ipykernel_58030/3718520029.py:8: SettingWithCopyWarning: \n",
      "A value is trying to be set on a copy of a slice from a DataFrame.\n",
      "Try using .loc[row_indexer,col_indexer] = value instead\n",
      "\n",
      "See the caveats in the documentation: https://pandas.pydata.org/pandas-docs/stable/user_guide/indexing.html#returning-a-view-versus-a-copy\n",
      "  new_df[\"tag\"] = new_df[\"tag\"].apply(lemmatize)\n"
     ]
    }
   ],
   "source": [
    "# Normalization process with lemmatisation\n",
    "\n",
    "def lemmatize(token):\n",
    "    doc = nlp(\" \".join(token))    \n",
    "    lemmatized_tokens = [token.lemma_ for token in doc if token.lemma_ != \"\"]\n",
    "    return lemmatized_tokens\n",
    "\n",
    "new_df[\"tag\"] = new_df[\"tag\"].apply(lemmatize)"
   ]
  },
  {
   "cell_type": "code",
   "execution_count": 56,
   "id": "b8b41f0a-d473-47c9-9929-3c5641820584",
   "metadata": {},
   "outputs": [
    {
     "data": {
      "text/plain": [
       "['22nd',\n",
       " 'century',\n",
       " 'paraplegic',\n",
       " 'marine',\n",
       " 'dispatch',\n",
       " 'moon',\n",
       " 'pandora',\n",
       " 'unique',\n",
       " 'mission',\n",
       " 'tear',\n",
       " 'follow',\n",
       " 'order',\n",
       " 'protect',\n",
       " 'alien',\n",
       " 'civilization',\n",
       " 'action',\n",
       " 'adventure',\n",
       " 'fantasy',\n",
       " 'sciencefiction',\n",
       " 'cultureclash',\n",
       " 'future',\n",
       " 'spacewar',\n",
       " 'spacecolony',\n",
       " 'society',\n",
       " 'spacetravel',\n",
       " 'futuristic',\n",
       " 'romance',\n",
       " 'space',\n",
       " 'alien',\n",
       " 'tribe',\n",
       " 'alienplanet',\n",
       " 'cgi',\n",
       " 'marine',\n",
       " 'soldier',\n",
       " 'battle',\n",
       " 'loveaffair',\n",
       " 'antiwar',\n",
       " 'powerrelation',\n",
       " 'mindandsoul',\n",
       " '3d',\n",
       " 'samworthington',\n",
       " 'zoesaldana',\n",
       " 'sigourneyweaver',\n",
       " 'jamescameron']"
      ]
     },
     "execution_count": 56,
     "metadata": {},
     "output_type": "execute_result"
    }
   ],
   "source": [
    "new_df.iloc[0][\"tag\"]"
   ]
  },
  {
   "cell_type": "code",
   "execution_count": null,
   "id": "a8fa5fec-c63e-4df1-98e6-160805af3f99",
   "metadata": {},
   "outputs": [],
   "source": []
  }
 ],
 "metadata": {
  "kernelspec": {
   "display_name": "Python 3 (ipykernel)",
   "language": "python",
   "name": "python3"
  },
  "language_info": {
   "codemirror_mode": {
    "name": "ipython",
    "version": 3
   },
   "file_extension": ".py",
   "mimetype": "text/x-python",
   "name": "python",
   "nbconvert_exporter": "python",
   "pygments_lexer": "ipython3",
   "version": "3.10.12"
  }
 },
 "nbformat": 4,
 "nbformat_minor": 5
}
